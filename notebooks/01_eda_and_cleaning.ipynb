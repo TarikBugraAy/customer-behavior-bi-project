{
 "cells": [
  {
   "cell_type": "markdown",
   "id": "8190562c",
   "metadata": {},
   "source": [
    "#  Customer Behavior Project - EDA & Data Cleaning\n",
    "\n",
    "**Dataset:** Online Retail [1] \n",
    "**Objective:** Perform initial exploration and data cleaning to prepare for RFM analysis, clustering, and classification.\n",
    "\n",
    "- Author: Tarık Buğra Ay\n",
    "- Date: May, 2025\n",
    "\n",
    "[1] D. Chen. \"Online Retail,\" UCI Machine Learning Repository, 2015. [Online]. Available: https://doi.org/10.24432/C5BW33.\n"
   ]
  },
  {
   "cell_type": "markdown",
   "id": "7a90a533",
   "metadata": {},
   "source": [
    "# Imports"
   ]
  },
  {
   "cell_type": "code",
   "execution_count": 2,
   "id": "16a8f3a5",
   "metadata": {},
   "outputs": [
    {
     "name": "stdout",
     "output_type": "stream",
     "text": [
      "Python version: 3.11.2 (tags/v3.11.2:878ead1, Feb  7 2023, 16:38:35) [MSC v.1934 64 bit (AMD64)]\n"
     ]
    }
   ],
   "source": [
    "# Core libraries\n",
    "import pandas as pd\n",
    "import numpy as np\n",
    "\n",
    "# Visualization\n",
    "import matplotlib.pyplot as plt\n",
    "import seaborn as sns\n",
    "\n",
    "# Settings for visuals\n",
    "%matplotlib inline\n",
    "sns.set_theme(style='whitegrid')\n",
    "\n",
    "# Suppress scientific notation\n",
    "pd.set_option('display.float_format', lambda x: '%.2f' % x)\n",
    "\n",
    "# Check environment\n",
    "import sys\n",
    "print(f\"Python version: {sys.version}\")\n"
   ]
  }
 ],
 "metadata": {
  "kernelspec": {
   "display_name": "Python (customer_behavior_env)",
   "language": "python",
   "name": "customer_behavior_env"
  },
  "language_info": {
   "codemirror_mode": {
    "name": "ipython",
    "version": 3
   },
   "file_extension": ".py",
   "mimetype": "text/x-python",
   "name": "python",
   "nbconvert_exporter": "python",
   "pygments_lexer": "ipython3",
   "version": "3.11.2"
  }
 },
 "nbformat": 4,
 "nbformat_minor": 5
}
